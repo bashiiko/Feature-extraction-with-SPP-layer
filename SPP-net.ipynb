{
 "cells": [
  {
   "cell_type": "code",
   "execution_count": 6,
   "metadata": {
    "ExecuteTime": {
     "end_time": "2019-11-06T04:08:57.835199Z",
     "start_time": "2019-11-06T04:08:57.826615Z"
    }
   },
   "outputs": [
    {
     "name": "stdout",
     "output_type": "stream",
     "text": [
      "/home/naoko/scikit_learn_data\n"
     ]
    }
   ],
   "source": [
    "### fetch_mldata('MNIST original')でRemoteDisconnectedエラーが出た場合\n",
    "\n",
    "# https://github.com/amplab/datascience-sp14/raw/master/lab7/mldata/mnist-original.mat \n",
    "# ↑から mnist-original.mat をダウンロード\n",
    "\n",
    "from sklearn.datasets.base import get_data_home \n",
    "print (get_data_home()) # これで表示されるパスに mnist-original.mat を置く"
   ]
  },
  {
   "cell_type": "code",
   "execution_count": 11,
   "metadata": {
    "ExecuteTime": {
     "end_time": "2019-11-06T05:23:17.887574Z",
     "start_time": "2019-11-06T05:23:17.871325Z"
    }
   },
   "outputs": [],
   "source": [
    "# proxyの設定\n",
    "import urllib.request\n",
    "\n",
    "#proxy = urllib.request.ProxyHandler({'https': 'https://proxy.uec.ac.jp:8080'})\n",
    "#opener = urllib.request.build_opener(proxy)\n",
    "#urllib.request.install_opener(opener)\n",
    "\n",
    "from sklearn.datasets import fetch_openml\n",
    "mnist = fetch_openml('mnist_784', version=1,)\n",
    "\n"
   ]
  },
  {
   "cell_type": "code",
   "execution_count": 29,
   "metadata": {
    "ExecuteTime": {
     "end_time": "2019-11-06T04:14:21.134660Z",
     "start_time": "2019-11-06T04:14:21.115235Z"
    }
   },
   "outputs": [
    {
     "name": "stdout",
     "output_type": "stream",
     "text": [
      "この画像データのラベルは5です\n"
     ]
    },
    {
     "data": {
      "image/png": "[encoded data removed]",
      "text/plain": [
       "<Figure size 432x288 with 1 Axes>"
      ]
     },
     "metadata": {
      "needs_background": "light"
     },
     "output_type": "display_data"
    }
   ],
   "source": [
    "# MNISTデータの前処理\n",
    "# 28x28ピクセルごとの0-255の数値を0-1に変換\n",
    "X = mnist.data / 255  \n",
    "# 正解ラベルを取得\n",
    "y = mnist.target\n",
    "\n",
    "# MNISTのデータの1つ目をmatplotlib.pyplotで描画する\n",
    "import matplotlib.pyplot as plt\n",
    "%matplotlib inline\n",
    "plt.imshow(X[0].reshape(28, 28), cmap='gray')\n",
    "print(\"この画像データのラベルは{}です\".format(y[0]))\n"
   ]
  },
  {
   "cell_type": "code",
   "execution_count": null,
   "metadata": {},
   "outputs": [],
   "source": [
    "# 画像データのインポート\n"
   ]
  },
  {
   "cell_type": "code",
   "execution_count": 30,
   "metadata": {
    "ExecuteTime": {
     "end_time": "2019-11-06T04:13:22.224330Z",
     "start_time": "2019-11-06T04:12:35.360Z"
    }
   },
   "outputs": [],
   "source": [
    "# DataLoderの作成\n",
    "\n",
    "import torch\n",
    "from torch.utils.data import TensorDataset, DataLoader\n",
    "from spp_layer import spatial_pyramid_pool\n",
    "\n",
    "# データを訓練とテストのために、6:1に分割\n",
    "from sklearn.model_selection import train_test_split\n",
    "X_train, X_test, y_train, y_test = train_test_split(\n",
    "    X, y, test_size=1/7, random_state=0)\n",
    "\n",
    "# 5-2. データのフォーマットを変換：PyTorchでの形式 = [画像数，チャネル数，高さ，幅]\n",
    "X_train = X_train.reshape(60000, 1, 28, 28)\n",
    "X_test = X_test.reshape(10000, 1, 28 ,28)\n",
    "\n",
    "y_train = y_train.astype(\"float64\")\n",
    "y_test = y_test.astype(\"float64\")\n",
    "\n",
    "# データをPyTorchのTensorに変換\n",
    "X_train = torch.Tensor(X_train)\n",
    "X_test = torch.Tensor(X_test)\n",
    "y_train = torch.LongTensor(y_train)\n",
    "y_test = torch.LongTensor(y_test)\n",
    "\n",
    "# データとラベルをセットにしたDatasetを作成\n",
    "ds_train = TensorDataset(X_train, y_train)\n",
    "ds_test = TensorDataset(X_test, y_test)\n",
    "\n",
    "# データセットのミニバッチサイズを指定した、Dataloaderを作成\n",
    "loader_train = DataLoader(ds_train, batch_size=64, shuffle=True)\n",
    "loader_test = DataLoader(ds_test,batch_size=64,  shuffle=False)\n"
   ]
  },
  {
   "cell_type": "code",
   "execution_count": 15,
   "metadata": {
    "ExecuteTime": {
     "end_time": "2019-11-06T04:13:22.230333Z",
     "start_time": "2019-11-06T04:12:41.512Z"
    }
   },
   "outputs": [
    {
     "name": "stdout",
     "output_type": "stream",
     "text": [
      "Sequential(\n",
      "  (fc1): Linear(in_features=784, out_features=100, bias=True)\n",
      "  (relu1): ReLU()\n",
      "  (fc2): Linear(in_features=100, out_features=100, bias=True)\n",
      "  (relu2): ReLU()\n",
      "  (fc3): Linear(in_features=100, out_features=100, bias=True)\n",
      "  (relu3): ReLU()\n",
      "  (fc4): Linear(in_features=100, out_features=100, bias=True)\n",
      "  (relu4): ReLU()\n",
      "  (fc5): Linear(in_features=100, out_features=100, bias=True)\n",
      "  (relu5): ReLU()\n",
      "  (fc6): Linear(in_features=100, out_features=10, bias=True)\n",
      ")\n"
     ]
    }
   ],
   "source": [
    "# ネットワークの構築\n",
    "# Keras風の書き方 Define and Run\n",
    "\n",
    "from torch import nn\n",
    "\n",
    "model = nn.Sequential()\n",
    "model.add_module('fc1', nn.Linear(28*28, 100))\n",
    "model.add_module('relu1', nn.ReLU())\n",
    "model.add_module('fc2', nn.Linear(100, 100))\n",
    "model.add_module('relu2', nn.ReLU())\n",
    "model.add_module('fc3', nn.Linear(100, 100))\n",
    "model.add_module('relu3', nn.ReLU())\n",
    "model.add_module('fc4', nn.Linear(100, 100))\n",
    "model.add_module('relu4', nn.ReLU())\n",
    "model.add_module('fc5', nn.Linear(100, 100))\n",
    "model.add_module('relu5', nn.ReLU())\n",
    "model.add_module('fc6', nn.Linear(100, 10))\n",
    "\n",
    "print(model)\n"
   ]
  },
  {
   "cell_type": "code",
   "execution_count": 16,
   "metadata": {
    "ExecuteTime": {
     "end_time": "2019-11-06T04:13:22.234119Z",
     "start_time": "2019-11-06T04:12:47.063Z"
    }
   },
   "outputs": [],
   "source": [
    "# 畳み込みニューラルネットワークの設定\n",
    "import torch.nn as nn\n",
    "import torch.nn.functional as F\n",
    "\n",
    "num_layer = 2                   # 畳み込み層の数\n",
    "num_filters = [16, 32]          # 各畳み込み層のフィルタ数\n",
    "mid_units = 100                 # 全結合層のユニット数\n",
    "\n",
    "in_height = 28\n",
    "in_width = 28\n",
    "kernel = 3\n",
    "#dropout_prob = 0.0\n",
    "\n",
    "class Net(nn.Module):\n",
    "  def __init__(self, activation, dropout_prob):\n",
    "    super(Net, self).__init__()\n",
    "    self.activation = activation\n",
    "    #self.activation = get_activation(trial)\n",
    "    #self.activation = F.relu\n",
    "    #第1層\n",
    "    self.conv1 = nn.Conv2d(1, num_filters[0], 3)\n",
    "    self.conv2 = nn.Conv2d(num_filters[0], num_filters[1], 3)\n",
    "\n",
    "    #self.conv1_drop = nn.Dropout2d(p=dropout_prob)\n",
    "    #self.conv2_drop = nn.Dropout2d(p=dropout_prob)\n",
    "    #self.fc1_drop = nn.Dropout2d(p=dropout_prob)\n",
    "    #self.fc2_drop = nn.Dropout2d(p=dropout_prob)\n",
    "    \n",
    "    self.fc1 = nn.Linear(in_features= 5*5*num_filters[1], out_features=mid_units) \n",
    "    self.fc2 = nn.Linear(in_features=mid_units, out_features=10)\n",
    "\n",
    "  def forward(self, x):\n",
    "    x = self.activation(F.max_pool2d(self.conv1(x), 2))\n",
    "    #x = self.activation(F.max_pool2d(self.conv1_drop(self.conv1(x)), 2))\n",
    "    #x = self.activation(F.max_pool2d(self.conv2(x), 2))\n",
    "    \n",
    "    # 最後のpooling層のみSPP層に変更\n",
    "    x = self.activation(spatial_pyramid_pool(self.conv2(x), 2))\n",
    "    #x = self.activation(F.max_pool2d(self.conv2_drop(self.conv2(x)), 2))\n",
    "    \n",
    "    x = x.view(x.size(0),-1)\n",
    "    x = self.activation(self.fc1(x))\n",
    "    #x = self.activation(self.fc1_drop(self.fc1(x)))\n",
    "    #x = F.dropout(x, training=self.training)\n",
    "    x = self.fc2(x)\n",
    "    #x = self.fc2_drop(self.fc2(x))\n",
    "    return F.log_softmax(x, dim=1)\n",
    "\n",
    "#model = Net(num_layer, mid_units, num_filters)\n",
    "#print(model)"
   ]
  },
  {
   "cell_type": "code",
   "execution_count": 18,
   "metadata": {
    "ExecuteTime": {
     "end_time": "2019-11-06T04:13:22.240692Z",
     "start_time": "2019-11-06T04:12:51.887Z"
    }
   },
   "outputs": [],
   "source": [
    "# 活性化関数\n",
    "def get_activation(trial):\n",
    "    activation_names = ['ReLU', 'ELU']\n",
    "    activation_name = trial.suggest_categorical('activation', activation_names)\n",
    "    if activation_name == activation_names[0]:\n",
    "        activation = F.relu\n",
    "    else:\n",
    "        activation = F.elu\n",
    "    return activation"
   ]
  },
  {
   "cell_type": "code",
   "execution_count": 31,
   "metadata": {},
   "outputs": [],
   "source": [
    "# optimを読み込む\n",
    "from torch import optim\n",
    "\n",
    "# 変数名にはcriterionも使われる\n",
    "loss_fn = nn.CrossEntropyLoss()\n",
    " \n",
    "# 重みを学習する際の最適化手法の選択\n",
    "optimizer = optim.Adam(model.parameters(), lr=0.01)"
   ]
  },
  {
   "cell_type": "code",
   "execution_count": 32,
   "metadata": {},
   "outputs": [],
   "source": [
    "# 5. 学習と推論の設定\n",
    "# 学習1回でやることを定義します\n",
    "# Chainerのtraining.Trainer()に対応するものはない\n",
    "\n",
    "from torch.autograd import Variable\n",
    "\n",
    "def train(epoch):\n",
    "    model.train()\n",
    "    # ネットワークを学習モードに切り替える\n",
    "\n",
    "    # データローダーから1ミニバッチずつ取り出して計算する\n",
    "    for data, target in loader_train:\n",
    "        data, target = Variable(data), Variable(target)  # 微分可能に変換\n",
    "        optimizer.zero_grad()  # 一度計算された勾配結果を0にリセット\n",
    " \n",
    "        output = model(data)  # 入力dataをinputし、出力を求める\n",
    "        loss = loss_fn(output, target)  # 出力と訓練データの正解との誤差を求める\n",
    "        loss.backward()  # 誤差のバックプロパゲーションを求める\n",
    "        optimizer.step()  # バックプロパゲーションの値で重みを更新する\n",
    "\n",
    "    print(\"epoch{}：終了\\n\".format(epoch))"
   ]
  },
  {
   "cell_type": "code",
   "execution_count": 33,
   "metadata": {},
   "outputs": [],
   "source": [
    "def test():\n",
    "    # ネットワークを推論モードに切り替える\n",
    "    model.eval()\n",
    "    correct = 0\n",
    "    # データローダーから1ミニバッチずつ取り出して計算する\n",
    "    for data, target in loader_test:\n",
    "        data, target = Variable(data), Variable(target)\n",
    "        # 微分可能に変換\n",
    "        output = model(data)\n",
    "        # 入力dataをinputし、出力を求める\n",
    "        \n",
    "        # 推論する\n",
    "        pred = output.data.max(1, keepdim=True)[1]\n",
    "        # 出力ラベルを求める\n",
    "        correct += pred.eq(target.data.view_as(pred)).sum()\n",
    "        # 正解と一緒だったらカウントアップ\n",
    "        # 正解率を出力\n",
    "        data_num = len(loader_test.dataset)\n",
    "        \n",
    "    # データの総数\n",
    "    print('\\nテストデータの正解率: {}/{} ({:.0f}%)\\n'.format(correct, data_num, 100. * correct / data_num))"
   ]
  },
  {
   "cell_type": "code",
   "execution_count": 34,
   "metadata": {},
   "outputs": [
    {
     "ename": "RuntimeError",
     "evalue": "size mismatch, m1: [1792 x 28], m2: [784 x 100] at C:\\w\\1\\s\\tmp_conda_3.7_160731\\conda\\conda-bld\\pytorch_1570810122324\\work\\aten\\src\\TH/generic/THTensorMath.cpp:197",
     "output_type": "error",
     "traceback": [
      "\u001b[1;31m---------------------------------------------------------------------------\u001b[0m",
      "\u001b[1;31mRuntimeError\u001b[0m                              Traceback (most recent call last)",
      "\u001b[1;32m<ipython-input-34-2e0dc78002fc>\u001b[0m in \u001b[0;36m<module>\u001b[1;34m\u001b[0m\n\u001b[0;32m      1\u001b[0m \u001b[1;31m# 学習なしにテストデータで推論\u001b[0m\u001b[1;33m\u001b[0m\u001b[1;33m\u001b[0m\u001b[1;33m\u001b[0m\u001b[0m\n\u001b[1;32m----> 2\u001b[1;33m \u001b[0mtest\u001b[0m\u001b[1;33m(\u001b[0m\u001b[1;33m)\u001b[0m\u001b[1;33m\u001b[0m\u001b[1;33m\u001b[0m\u001b[0m\n\u001b[0m",
      "\u001b[1;32m<ipython-input-33-d059f2aa986f>\u001b[0m in \u001b[0;36mtest\u001b[1;34m()\u001b[0m\n\u001b[0;32m      7\u001b[0m         \u001b[0mdata\u001b[0m\u001b[1;33m,\u001b[0m \u001b[0mtarget\u001b[0m \u001b[1;33m=\u001b[0m \u001b[0mVariable\u001b[0m\u001b[1;33m(\u001b[0m\u001b[0mdata\u001b[0m\u001b[1;33m)\u001b[0m\u001b[1;33m,\u001b[0m \u001b[0mVariable\u001b[0m\u001b[1;33m(\u001b[0m\u001b[0mtarget\u001b[0m\u001b[1;33m)\u001b[0m\u001b[1;33m\u001b[0m\u001b[1;33m\u001b[0m\u001b[0m\n\u001b[0;32m      8\u001b[0m         \u001b[1;31m# 微分可能に変換\u001b[0m\u001b[1;33m\u001b[0m\u001b[1;33m\u001b[0m\u001b[1;33m\u001b[0m\u001b[0m\n\u001b[1;32m----> 9\u001b[1;33m         \u001b[0moutput\u001b[0m \u001b[1;33m=\u001b[0m \u001b[0mmodel\u001b[0m\u001b[1;33m(\u001b[0m\u001b[0mdata\u001b[0m\u001b[1;33m)\u001b[0m\u001b[1;33m\u001b[0m\u001b[1;33m\u001b[0m\u001b[0m\n\u001b[0m\u001b[0;32m     10\u001b[0m         \u001b[1;31m# 入力dataをinputし、出力を求める\u001b[0m\u001b[1;33m\u001b[0m\u001b[1;33m\u001b[0m\u001b[1;33m\u001b[0m\u001b[0m\n\u001b[0;32m     11\u001b[0m \u001b[1;33m\u001b[0m\u001b[0m\n",
      "\u001b[1;32m~\\Anaconda3\\lib\\site-packages\\torch\\nn\\modules\\module.py\u001b[0m in \u001b[0;36m__call__\u001b[1;34m(self, *input, **kwargs)\u001b[0m\n\u001b[0;32m    539\u001b[0m             \u001b[0mresult\u001b[0m \u001b[1;33m=\u001b[0m \u001b[0mself\u001b[0m\u001b[1;33m.\u001b[0m\u001b[0m_slow_forward\u001b[0m\u001b[1;33m(\u001b[0m\u001b[1;33m*\u001b[0m\u001b[0minput\u001b[0m\u001b[1;33m,\u001b[0m \u001b[1;33m**\u001b[0m\u001b[0mkwargs\u001b[0m\u001b[1;33m)\u001b[0m\u001b[1;33m\u001b[0m\u001b[1;33m\u001b[0m\u001b[0m\n\u001b[0;32m    540\u001b[0m         \u001b[1;32melse\u001b[0m\u001b[1;33m:\u001b[0m\u001b[1;33m\u001b[0m\u001b[1;33m\u001b[0m\u001b[0m\n\u001b[1;32m--> 541\u001b[1;33m             \u001b[0mresult\u001b[0m \u001b[1;33m=\u001b[0m \u001b[0mself\u001b[0m\u001b[1;33m.\u001b[0m\u001b[0mforward\u001b[0m\u001b[1;33m(\u001b[0m\u001b[1;33m*\u001b[0m\u001b[0minput\u001b[0m\u001b[1;33m,\u001b[0m \u001b[1;33m**\u001b[0m\u001b[0mkwargs\u001b[0m\u001b[1;33m)\u001b[0m\u001b[1;33m\u001b[0m\u001b[1;33m\u001b[0m\u001b[0m\n\u001b[0m\u001b[0;32m    542\u001b[0m         \u001b[1;32mfor\u001b[0m \u001b[0mhook\u001b[0m \u001b[1;32min\u001b[0m \u001b[0mself\u001b[0m\u001b[1;33m.\u001b[0m\u001b[0m_forward_hooks\u001b[0m\u001b[1;33m.\u001b[0m\u001b[0mvalues\u001b[0m\u001b[1;33m(\u001b[0m\u001b[1;33m)\u001b[0m\u001b[1;33m:\u001b[0m\u001b[1;33m\u001b[0m\u001b[1;33m\u001b[0m\u001b[0m\n\u001b[0;32m    543\u001b[0m             \u001b[0mhook_result\u001b[0m \u001b[1;33m=\u001b[0m \u001b[0mhook\u001b[0m\u001b[1;33m(\u001b[0m\u001b[0mself\u001b[0m\u001b[1;33m,\u001b[0m \u001b[0minput\u001b[0m\u001b[1;33m,\u001b[0m \u001b[0mresult\u001b[0m\u001b[1;33m)\u001b[0m\u001b[1;33m\u001b[0m\u001b[1;33m\u001b[0m\u001b[0m\n",
      "\u001b[1;32m~\\Anaconda3\\lib\\site-packages\\torch\\nn\\modules\\container.py\u001b[0m in \u001b[0;36mforward\u001b[1;34m(self, input)\u001b[0m\n\u001b[0;32m     90\u001b[0m     \u001b[1;32mdef\u001b[0m \u001b[0mforward\u001b[0m\u001b[1;33m(\u001b[0m\u001b[0mself\u001b[0m\u001b[1;33m,\u001b[0m \u001b[0minput\u001b[0m\u001b[1;33m)\u001b[0m\u001b[1;33m:\u001b[0m\u001b[1;33m\u001b[0m\u001b[1;33m\u001b[0m\u001b[0m\n\u001b[0;32m     91\u001b[0m         \u001b[1;32mfor\u001b[0m \u001b[0mmodule\u001b[0m \u001b[1;32min\u001b[0m \u001b[0mself\u001b[0m\u001b[1;33m.\u001b[0m\u001b[0m_modules\u001b[0m\u001b[1;33m.\u001b[0m\u001b[0mvalues\u001b[0m\u001b[1;33m(\u001b[0m\u001b[1;33m)\u001b[0m\u001b[1;33m:\u001b[0m\u001b[1;33m\u001b[0m\u001b[1;33m\u001b[0m\u001b[0m\n\u001b[1;32m---> 92\u001b[1;33m             \u001b[0minput\u001b[0m \u001b[1;33m=\u001b[0m \u001b[0mmodule\u001b[0m\u001b[1;33m(\u001b[0m\u001b[0minput\u001b[0m\u001b[1;33m)\u001b[0m\u001b[1;33m\u001b[0m\u001b[1;33m\u001b[0m\u001b[0m\n\u001b[0m\u001b[0;32m     93\u001b[0m         \u001b[1;32mreturn\u001b[0m \u001b[0minput\u001b[0m\u001b[1;33m\u001b[0m\u001b[1;33m\u001b[0m\u001b[0m\n\u001b[0;32m     94\u001b[0m \u001b[1;33m\u001b[0m\u001b[0m\n",
      "\u001b[1;32m~\\Anaconda3\\lib\\site-packages\\torch\\nn\\modules\\module.py\u001b[0m in \u001b[0;36m__call__\u001b[1;34m(self, *input, **kwargs)\u001b[0m\n\u001b[0;32m    539\u001b[0m             \u001b[0mresult\u001b[0m \u001b[1;33m=\u001b[0m \u001b[0mself\u001b[0m\u001b[1;33m.\u001b[0m\u001b[0m_slow_forward\u001b[0m\u001b[1;33m(\u001b[0m\u001b[1;33m*\u001b[0m\u001b[0minput\u001b[0m\u001b[1;33m,\u001b[0m \u001b[1;33m**\u001b[0m\u001b[0mkwargs\u001b[0m\u001b[1;33m)\u001b[0m\u001b[1;33m\u001b[0m\u001b[1;33m\u001b[0m\u001b[0m\n\u001b[0;32m    540\u001b[0m         \u001b[1;32melse\u001b[0m\u001b[1;33m:\u001b[0m\u001b[1;33m\u001b[0m\u001b[1;33m\u001b[0m\u001b[0m\n\u001b[1;32m--> 541\u001b[1;33m             \u001b[0mresult\u001b[0m \u001b[1;33m=\u001b[0m \u001b[0mself\u001b[0m\u001b[1;33m.\u001b[0m\u001b[0mforward\u001b[0m\u001b[1;33m(\u001b[0m\u001b[1;33m*\u001b[0m\u001b[0minput\u001b[0m\u001b[1;33m,\u001b[0m \u001b[1;33m**\u001b[0m\u001b[0mkwargs\u001b[0m\u001b[1;33m)\u001b[0m\u001b[1;33m\u001b[0m\u001b[1;33m\u001b[0m\u001b[0m\n\u001b[0m\u001b[0;32m    542\u001b[0m         \u001b[1;32mfor\u001b[0m \u001b[0mhook\u001b[0m \u001b[1;32min\u001b[0m \u001b[0mself\u001b[0m\u001b[1;33m.\u001b[0m\u001b[0m_forward_hooks\u001b[0m\u001b[1;33m.\u001b[0m\u001b[0mvalues\u001b[0m\u001b[1;33m(\u001b[0m\u001b[1;33m)\u001b[0m\u001b[1;33m:\u001b[0m\u001b[1;33m\u001b[0m\u001b[1;33m\u001b[0m\u001b[0m\n\u001b[0;32m    543\u001b[0m             \u001b[0mhook_result\u001b[0m \u001b[1;33m=\u001b[0m \u001b[0mhook\u001b[0m\u001b[1;33m(\u001b[0m\u001b[0mself\u001b[0m\u001b[1;33m,\u001b[0m \u001b[0minput\u001b[0m\u001b[1;33m,\u001b[0m \u001b[0mresult\u001b[0m\u001b[1;33m)\u001b[0m\u001b[1;33m\u001b[0m\u001b[1;33m\u001b[0m\u001b[0m\n",
      "\u001b[1;32m~\\Anaconda3\\lib\\site-packages\\torch\\nn\\modules\\linear.py\u001b[0m in \u001b[0;36mforward\u001b[1;34m(self, input)\u001b[0m\n\u001b[0;32m     85\u001b[0m \u001b[1;33m\u001b[0m\u001b[0m\n\u001b[0;32m     86\u001b[0m     \u001b[1;32mdef\u001b[0m \u001b[0mforward\u001b[0m\u001b[1;33m(\u001b[0m\u001b[0mself\u001b[0m\u001b[1;33m,\u001b[0m \u001b[0minput\u001b[0m\u001b[1;33m)\u001b[0m\u001b[1;33m:\u001b[0m\u001b[1;33m\u001b[0m\u001b[1;33m\u001b[0m\u001b[0m\n\u001b[1;32m---> 87\u001b[1;33m         \u001b[1;32mreturn\u001b[0m \u001b[0mF\u001b[0m\u001b[1;33m.\u001b[0m\u001b[0mlinear\u001b[0m\u001b[1;33m(\u001b[0m\u001b[0minput\u001b[0m\u001b[1;33m,\u001b[0m \u001b[0mself\u001b[0m\u001b[1;33m.\u001b[0m\u001b[0mweight\u001b[0m\u001b[1;33m,\u001b[0m \u001b[0mself\u001b[0m\u001b[1;33m.\u001b[0m\u001b[0mbias\u001b[0m\u001b[1;33m)\u001b[0m\u001b[1;33m\u001b[0m\u001b[1;33m\u001b[0m\u001b[0m\n\u001b[0m\u001b[0;32m     88\u001b[0m \u001b[1;33m\u001b[0m\u001b[0m\n\u001b[0;32m     89\u001b[0m     \u001b[1;32mdef\u001b[0m \u001b[0mextra_repr\u001b[0m\u001b[1;33m(\u001b[0m\u001b[0mself\u001b[0m\u001b[1;33m)\u001b[0m\u001b[1;33m:\u001b[0m\u001b[1;33m\u001b[0m\u001b[1;33m\u001b[0m\u001b[0m\n",
      "\u001b[1;32m~\\Anaconda3\\lib\\site-packages\\torch\\nn\\functional.py\u001b[0m in \u001b[0;36mlinear\u001b[1;34m(input, weight, bias)\u001b[0m\n\u001b[0;32m   1370\u001b[0m         \u001b[0mret\u001b[0m \u001b[1;33m=\u001b[0m \u001b[0mtorch\u001b[0m\u001b[1;33m.\u001b[0m\u001b[0maddmm\u001b[0m\u001b[1;33m(\u001b[0m\u001b[0mbias\u001b[0m\u001b[1;33m,\u001b[0m \u001b[0minput\u001b[0m\u001b[1;33m,\u001b[0m \u001b[0mweight\u001b[0m\u001b[1;33m.\u001b[0m\u001b[0mt\u001b[0m\u001b[1;33m(\u001b[0m\u001b[1;33m)\u001b[0m\u001b[1;33m)\u001b[0m\u001b[1;33m\u001b[0m\u001b[1;33m\u001b[0m\u001b[0m\n\u001b[0;32m   1371\u001b[0m     \u001b[1;32melse\u001b[0m\u001b[1;33m:\u001b[0m\u001b[1;33m\u001b[0m\u001b[1;33m\u001b[0m\u001b[0m\n\u001b[1;32m-> 1372\u001b[1;33m         \u001b[0moutput\u001b[0m \u001b[1;33m=\u001b[0m \u001b[0minput\u001b[0m\u001b[1;33m.\u001b[0m\u001b[0mmatmul\u001b[0m\u001b[1;33m(\u001b[0m\u001b[0mweight\u001b[0m\u001b[1;33m.\u001b[0m\u001b[0mt\u001b[0m\u001b[1;33m(\u001b[0m\u001b[1;33m)\u001b[0m\u001b[1;33m)\u001b[0m\u001b[1;33m\u001b[0m\u001b[1;33m\u001b[0m\u001b[0m\n\u001b[0m\u001b[0;32m   1373\u001b[0m         \u001b[1;32mif\u001b[0m \u001b[0mbias\u001b[0m \u001b[1;32mis\u001b[0m \u001b[1;32mnot\u001b[0m \u001b[1;32mNone\u001b[0m\u001b[1;33m:\u001b[0m\u001b[1;33m\u001b[0m\u001b[1;33m\u001b[0m\u001b[0m\n\u001b[0;32m   1374\u001b[0m             \u001b[0moutput\u001b[0m \u001b[1;33m+=\u001b[0m \u001b[0mbias\u001b[0m\u001b[1;33m\u001b[0m\u001b[1;33m\u001b[0m\u001b[0m\n",
      "\u001b[1;31mRuntimeError\u001b[0m: size mismatch, m1: [1792 x 28], m2: [784 x 100] at C:\\w\\1\\s\\tmp_conda_3.7_160731\\conda\\conda-bld\\pytorch_1570810122324\\work\\aten\\src\\TH/generic/THTensorMath.cpp:197"
     ]
    }
   ],
   "source": [
    "# 学習なしにテストデータで推論\n",
    "test()\n"
   ]
  },
  {
   "cell_type": "code",
   "execution_count": 22,
   "metadata": {},
   "outputs": [
    {
     "ename": "TypeError",
     "evalue": "train() missing 3 required positional arguments: 'device', 'loader_train', and 'optimizer'",
     "output_type": "error",
     "traceback": [
      "\u001b[1;31m---------------------------------------------------------------------------\u001b[0m",
      "\u001b[1;31mTypeError\u001b[0m                                 Traceback (most recent call last)",
      "\u001b[1;32m<ipython-input-22-a00cc16115bf>\u001b[0m in \u001b[0;36m<module>\u001b[1;34m\u001b[0m\n\u001b[0;32m      1\u001b[0m \u001b[1;31m# 60000のデータに3エポック学習を実行する\u001b[0m\u001b[1;33m\u001b[0m\u001b[1;33m\u001b[0m\u001b[1;33m\u001b[0m\u001b[0m\n\u001b[0;32m      2\u001b[0m \u001b[1;32mfor\u001b[0m \u001b[0mepoch\u001b[0m \u001b[1;32min\u001b[0m \u001b[0mrange\u001b[0m\u001b[1;33m(\u001b[0m\u001b[1;36m3\u001b[0m\u001b[1;33m)\u001b[0m\u001b[1;33m:\u001b[0m\u001b[1;33m\u001b[0m\u001b[1;33m\u001b[0m\u001b[0m\n\u001b[1;32m----> 3\u001b[1;33m     \u001b[0mtrain\u001b[0m\u001b[1;33m(\u001b[0m\u001b[0mepoch\u001b[0m\u001b[1;33m)\u001b[0m\u001b[1;33m\u001b[0m\u001b[1;33m\u001b[0m\u001b[0m\n\u001b[0m\u001b[0;32m      4\u001b[0m \u001b[1;33m\u001b[0m\u001b[0m\n\u001b[0;32m      5\u001b[0m \u001b[0mtest\u001b[0m\u001b[1;33m(\u001b[0m\u001b[1;33m)\u001b[0m\u001b[1;33m\u001b[0m\u001b[1;33m\u001b[0m\u001b[0m\n",
      "\u001b[1;31mTypeError\u001b[0m: train() missing 3 required positional arguments: 'device', 'loader_train', and 'optimizer'"
     ]
    }
   ],
   "source": [
    "# 60000のデータに3エポック学習を実行する\n",
    "for epoch in range(3):\n",
    "    train(epoch)\n",
    " \n",
    "test()\n"
   ]
  },
  {
   "cell_type": "code",
   "execution_count": 17,
   "metadata": {
    "ExecuteTime": {
     "end_time": "2019-11-06T04:13:22.237672Z",
     "start_time": "2019-11-06T04:12:49.879Z"
    }
   },
   "outputs": [],
   "source": [
    "# 誤差関数と最適化手法の設定\n",
    "\n",
    "from torch import optim\n",
    "\n",
    "# 誤差関数の設定\n",
    "loss_fn = nn.CrossEntropyLoss()  # 変数名にはcriterionも使われる\n",
    "\n",
    "# 重みを学習する際の最適化手法の選択\n",
    "#optimizer = optim.SGD(model.parameters(), lr=0.1, momentum=0.9, weight_decay = 0.001)\n",
    "\n",
    "import torch.optim as optim\n",
    "\n",
    "def get_optimizer(trial, model):\n",
    "    optimizer_names = ['Adam', 'MomentumSGD']\n",
    "    optimizer_name = trial.suggest_categorical('optimizer', optimizer_names)\n",
    "    weight_decay = trial.suggest_loguniform('weight_decay', 1e-10, 1e-3)\n",
    "    if optimizer_name == optimizer_names[0]: \n",
    "    # サンプルコードでは\n",
    "    # if optimizer_name == 'Adam'\n",
    "    # となっているが、地味にバグの元になりそうな気がした\n",
    "        adam_lr = trial.suggest_loguniform('adam_lr', 1e-5, 1e-1)\n",
    "        optimizer = optim.Adam(model.parameters(), lr=adam_lr, weight_decay=weight_decay)\n",
    "    else:\n",
    "        momentum_sgd_lr = trial.suggest_loguniform('momentum_sgd_lr', 1e-5, 1e-1)\n",
    "        optimizer = optim.SGD(model.parameters(), lr=momentum_sgd_lr,\n",
    "                              momentum=0.9, weight_decay=weight_decay)\n",
    "    return optimizer\n"
   ]
  },
  {
   "cell_type": "code",
   "execution_count": 25,
   "metadata": {
    "ExecuteTime": {
     "end_time": "2019-11-06T04:13:22.243608Z",
     "start_time": "2019-11-06T04:12:53.152Z"
    }
   },
   "outputs": [],
   "source": [
    "# 5. 学習と推論の設定\n",
    "# 学習1回でやることを定義します\n",
    "# Chainerのtraining.Trainer()に対応するものはない\n",
    "\n",
    "from torch.autograd import Variable\n",
    "  \n",
    "def train(model, device, loader_train, optimizer):\n",
    "    model.train()  # ネットワークを学習モードに切り替える\n",
    "\n",
    "    # データローダーから1ミニバッチずつ取り出して計算する\n",
    "    for data, target in loader_train:\n",
    "        data, target = data.to(device), target.to(device)\n",
    "        optimizer.zero_grad()  # 一度計算された勾配結果を0にリセット\n",
    "        output = model(data)  # 入力dataをinputし、出力を求める\n",
    "        loss = loss_fn(output, target)  # 出力と訓練データの正解との誤差を求める\n",
    "        loss.backward()  # 誤差のバックプロパゲーションを求める\n",
    "        optimizer.step()  # バックプロパゲーションの値で重みを更新する\n",
    "\n",
    "    #print(\"epoch{}：終了\\n\".format(epoch))\n",
    "\n",
    "# Chainerのtrainer.extend(extensions.Evaluator())に対応するものはない\n",
    "\n",
    "def test(model, device, loader_test):\n",
    "    model.eval()  # ネットワークを推論モードに切り替える\n",
    "    correct = 0\n",
    " \n",
    "    # データローダーから1ミニバッチずつ取り出して計算する\n",
    "    for data, target in loader_test:\n",
    "        data, target = data.to(device), target.to(device)\n",
    "        output = model(data)  # 入力dataをinputし、出力を求める\n",
    "        # 推論する\n",
    "        pred = output.data.max(1, keepdim=True)[1]  # 出力ラベルを求める\n",
    "        correct += pred.eq(target.data.view_as(pred)).sum().item()  # 正解と一緒だったらカウントアップ\n",
    " \n",
    "    # 正解率を出力\n",
    "    data_num = len(loader_test.dataset)  # データの総数\n",
    "    #print('\\nテストデータの正解率: {}/{} ({:.0f}%)\\n'.format(correct,\n",
    "    #                                              data_num, 100. * correct / data_num))\n",
    "    return 1 - correct / data_num"
   ]
  },
  {
   "cell_type": "code",
   "execution_count": 211,
   "metadata": {},
   "outputs": [
    {
     "name": "stderr",
     "output_type": "stream",
     "text": [
      "[I 2019-08-07 15:23:39,011] Finished trial#0 resulted in value: 0.12629999999999997. Current best value is 0.12629999999999997 with parameters: {'activation': 'ELU', 'dropout_prob': 0.37433377049639943, 'optimizer': 'Adam', 'weight_decay': 5.591573802238303e-09, 'adam_lr': 1.5340032406828095e-05}.\n",
      "[I 2019-08-07 15:25:48,191] Finished trial#1 resulted in value: 0.128. Current best value is 0.12629999999999997 with parameters: {'activation': 'ELU', 'dropout_prob': 0.37433377049639943, 'optimizer': 'Adam', 'weight_decay': 5.591573802238303e-09, 'adam_lr': 1.5340032406828095e-05}.\n",
      "[I 2019-08-07 15:27:55,066] Finished trial#2 resulted in value: 0.04949999999999999. Current best value is 0.04949999999999999 with parameters: {'activation': 'ReLU', 'dropout_prob': 0.060369451962114344, 'optimizer': 'Adam', 'weight_decay': 3.1707146143075956e-08, 'adam_lr': 8.243044009824591e-05}.\n",
      "[I 2019-08-07 15:31:43,990] Finished trial#3 resulted in value: 0.9011. Current best value is 0.04949999999999999 with parameters: {'activation': 'ReLU', 'dropout_prob': 0.060369451962114344, 'optimizer': 'Adam', 'weight_decay': 3.1707146143075956e-08, 'adam_lr': 8.243044009824591e-05}.\n",
      "[I 2019-08-07 15:34:08,580] Finished trial#4 resulted in value: 0.12419999999999998. Current best value is 0.04949999999999999 with parameters: {'activation': 'ReLU', 'dropout_prob': 0.060369451962114344, 'optimizer': 'Adam', 'weight_decay': 3.1707146143075956e-08, 'adam_lr': 8.243044009824591e-05}.\n",
      "[I 2019-08-07 15:37:05,330] Finished trial#5 resulted in value: 0.02070000000000005. Current best value is 0.02070000000000005 with parameters: {'activation': 'ReLU', 'dropout_prob': 0.27135715598862903, 'optimizer': 'Adam', 'weight_decay': 0.00020171705922087584, 'adam_lr': 0.008793723376564803}.\n",
      "[I 2019-08-07 15:42:19,662] Finished trial#6 resulted in value: 0.061000000000000054. Current best value is 0.02070000000000005 with parameters: {'activation': 'ReLU', 'dropout_prob': 0.27135715598862903, 'optimizer': 'Adam', 'weight_decay': 0.00020171705922087584, 'adam_lr': 0.008793723376564803}.\n",
      "[I 2019-08-07 15:46:00,425] Finished trial#7 resulted in value: 0.17589999999999995. Current best value is 0.02070000000000005 with parameters: {'activation': 'ReLU', 'dropout_prob': 0.27135715598862903, 'optimizer': 'Adam', 'weight_decay': 0.00020171705922087584, 'adam_lr': 0.008793723376564803}.\n",
      "[I 2019-08-07 15:49:30,156] Finished trial#8 resulted in value: 0.02180000000000004. Current best value is 0.02070000000000005 with parameters: {'activation': 'ReLU', 'dropout_prob': 0.27135715598862903, 'optimizer': 'Adam', 'weight_decay': 0.00020171705922087584, 'adam_lr': 0.008793723376564803}.\n",
      "[I 2019-08-07 15:52:13,274] Finished trial#9 resulted in value: 0.04569999999999996. Current best value is 0.02070000000000005 with parameters: {'activation': 'ReLU', 'dropout_prob': 0.27135715598862903, 'optimizer': 'Adam', 'weight_decay': 0.00020171705922087584, 'adam_lr': 0.008793723376564803}.\n",
      "[I 2019-08-07 15:54:54,783] Finished trial#10 resulted in value: 0.09940000000000004. Current best value is 0.02070000000000005 with parameters: {'activation': 'ReLU', 'dropout_prob': 0.27135715598862903, 'optimizer': 'Adam', 'weight_decay': 0.00020171705922087584, 'adam_lr': 0.008793723376564803}.\n",
      "[I 2019-08-07 15:57:20,322] Finished trial#11 resulted in value: 0.016599999999999948. Current best value is 0.016599999999999948 with parameters: {'activation': 'ReLU', 'dropout_prob': 0.48572768158481083, 'optimizer': 'MomentumSGD', 'weight_decay': 0.0008103701584088533, 'momentum_sgd_lr': 0.028332787420636357}.\n",
      "[I 2019-08-07 15:59:52,409] Finished trial#12 resulted in value: 0.4991. Current best value is 0.016599999999999948 with parameters: {'activation': 'ReLU', 'dropout_prob': 0.48572768158481083, 'optimizer': 'MomentumSGD', 'weight_decay': 0.0008103701584088533, 'momentum_sgd_lr': 0.028332787420636357}.\n",
      "[I 2019-08-07 16:02:26,785] Finished trial#13 resulted in value: 0.9031. Current best value is 0.016599999999999948 with parameters: {'activation': 'ReLU', 'dropout_prob': 0.48572768158481083, 'optimizer': 'MomentumSGD', 'weight_decay': 0.0008103701584088533, 'momentum_sgd_lr': 0.028332787420636357}.\n",
      "[I 2019-08-07 16:05:33,267] Finished trial#14 resulted in value: 0.025399999999999978. Current best value is 0.016599999999999948 with parameters: {'activation': 'ReLU', 'dropout_prob': 0.48572768158481083, 'optimizer': 'MomentumSGD', 'weight_decay': 0.0008103701584088533, 'momentum_sgd_lr': 0.028332787420636357}.\n",
      "[I 2019-08-07 16:08:21,733] Finished trial#15 resulted in value: 0.055300000000000016. Current best value is 0.016599999999999948 with parameters: {'activation': 'ReLU', 'dropout_prob': 0.48572768158481083, 'optimizer': 'MomentumSGD', 'weight_decay': 0.0008103701584088533, 'momentum_sgd_lr': 0.028332787420636357}.\n",
      "[I 2019-08-07 16:10:53,230] Finished trial#16 resulted in value: 0.03210000000000002. Current best value is 0.016599999999999948 with parameters: {'activation': 'ReLU', 'dropout_prob': 0.48572768158481083, 'optimizer': 'MomentumSGD', 'weight_decay': 0.0008103701584088533, 'momentum_sgd_lr': 0.028332787420636357}.\n",
      "[I 2019-08-07 16:13:49,234] Finished trial#17 resulted in value: 0.026599999999999957. Current best value is 0.016599999999999948 with parameters: {'activation': 'ReLU', 'dropout_prob': 0.48572768158481083, 'optimizer': 'MomentumSGD', 'weight_decay': 0.0008103701584088533, 'momentum_sgd_lr': 0.028332787420636357}.\n",
      "[I 2019-08-07 16:16:52,290] Finished trial#18 resulted in value: 0.021599999999999953. Current best value is 0.016599999999999948 with parameters: {'activation': 'ReLU', 'dropout_prob': 0.48572768158481083, 'optimizer': 'MomentumSGD', 'weight_decay': 0.0008103701584088533, 'momentum_sgd_lr': 0.028332787420636357}.\n",
      "[I 2019-08-07 16:19:33,206] Finished trial#19 resulted in value: 0.031200000000000006. Current best value is 0.016599999999999948 with parameters: {'activation': 'ReLU', 'dropout_prob': 0.48572768158481083, 'optimizer': 'MomentumSGD', 'weight_decay': 0.0008103701584088533, 'momentum_sgd_lr': 0.028332787420636357}.\n",
      "[I 2019-08-07 16:22:17,114] Finished trial#20 resulted in value: 0.0595. Current best value is 0.016599999999999948 with parameters: {'activation': 'ReLU', 'dropout_prob': 0.48572768158481083, 'optimizer': 'MomentumSGD', 'weight_decay': 0.0008103701584088533, 'momentum_sgd_lr': 0.028332787420636357}.\n",
      "[I 2019-08-07 16:26:18,086] Finished trial#21 resulted in value: 0.02290000000000003. Current best value is 0.016599999999999948 with parameters: {'activation': 'ReLU', 'dropout_prob': 0.48572768158481083, 'optimizer': 'MomentumSGD', 'weight_decay': 0.0008103701584088533, 'momentum_sgd_lr': 0.028332787420636357}.\n",
      "[I 2019-08-07 16:30:02,013] Finished trial#22 resulted in value: 0.016700000000000048. Current best value is 0.016599999999999948 with parameters: {'activation': 'ReLU', 'dropout_prob': 0.48572768158481083, 'optimizer': 'MomentumSGD', 'weight_decay': 0.0008103701584088533, 'momentum_sgd_lr': 0.028332787420636357}.\n",
      "[I 2019-08-07 16:33:47,729] Finished trial#23 resulted in value: 0.01759999999999995. Current best value is 0.016599999999999948 with parameters: {'activation': 'ReLU', 'dropout_prob': 0.48572768158481083, 'optimizer': 'MomentumSGD', 'weight_decay': 0.0008103701584088533, 'momentum_sgd_lr': 0.028332787420636357}.\n",
      "[I 2019-08-07 16:36:33,268] Finished trial#24 resulted in value: 0.015000000000000013. Current best value is 0.015000000000000013 with parameters: {'activation': 'ReLU', 'dropout_prob': 0.595385347759559, 'optimizer': 'Adam', 'weight_decay': 3.7154616683296466e-05, 'adam_lr': 0.0020314764242483833}.\n",
      "[I 2019-08-07 16:39:14,504] Finished trial#25 resulted in value: 0.014900000000000024. Current best value is 0.014900000000000024 with parameters: {'activation': 'ReLU', 'dropout_prob': 0.6231808687487563, 'optimizer': 'Adam', 'weight_decay': 3.132147015200396e-05, 'adam_lr': 0.0020962014478128426}.\n",
      "[I 2019-08-07 16:41:40,061] Finished trial#26 resulted in value: 0.015599999999999947. Current best value is 0.014900000000000024 with parameters: {'activation': 'ReLU', 'dropout_prob': 0.6231808687487563, 'optimizer': 'Adam', 'weight_decay': 3.132147015200396e-05, 'adam_lr': 0.0020962014478128426}.\n",
      "[I 2019-08-07 16:44:49,907] Finished trial#27 resulted in value: 0.015199999999999991. Current best value is 0.014900000000000024 with parameters: {'activation': 'ReLU', 'dropout_prob': 0.6231808687487563, 'optimizer': 'Adam', 'weight_decay': 3.132147015200396e-05, 'adam_lr': 0.0020962014478128426}.\n",
      "[I 2019-08-07 16:47:08,311] Finished trial#28 resulted in value: 0.031399999999999983. Current best value is 0.014900000000000024 with parameters: {'activation': 'ReLU', 'dropout_prob': 0.6231808687487563, 'optimizer': 'Adam', 'weight_decay': 3.132147015200396e-05, 'adam_lr': 0.0020962014478128426}.\n",
      "[I 2019-08-07 16:49:29,112] Finished trial#29 resulted in value: 0.10450000000000004. Current best value is 0.014900000000000024 with parameters: {'activation': 'ReLU', 'dropout_prob': 0.6231808687487563, 'optimizer': 'Adam', 'weight_decay': 3.132147015200396e-05, 'adam_lr': 0.0020962014478128426}.\n",
      "[I 2019-08-07 16:52:24,801] Finished trial#30 resulted in value: 0.02080000000000004. Current best value is 0.014900000000000024 with parameters: {'activation': 'ReLU', 'dropout_prob': 0.6231808687487563, 'optimizer': 'Adam', 'weight_decay': 3.132147015200396e-05, 'adam_lr': 0.0020962014478128426}.\n",
      "[I 2019-08-07 16:55:25,498] Finished trial#31 resulted in value: 0.04259999999999997. Current best value is 0.014900000000000024 with parameters: {'activation': 'ReLU', 'dropout_prob': 0.6231808687487563, 'optimizer': 'Adam', 'weight_decay': 3.132147015200396e-05, 'adam_lr': 0.0020962014478128426}.\n",
      "[I 2019-08-07 16:58:15,414] Finished trial#32 resulted in value: 0.013700000000000045. Current best value is 0.013700000000000045 with parameters: {'activation': 'ReLU', 'dropout_prob': 0.5584895335100127, 'optimizer': 'Adam', 'weight_decay': 3.156360680409689e-05, 'adam_lr': 0.0026845002297224206}.\n",
      "[I 2019-08-07 17:01:00,277] Finished trial#33 resulted in value: 0.014599999999999946. Current best value is 0.013700000000000045 with parameters: {'activation': 'ReLU', 'dropout_prob': 0.5584895335100127, 'optimizer': 'Adam', 'weight_decay': 3.156360680409689e-05, 'adam_lr': 0.0026845002297224206}.\n",
      "[I 2019-08-07 17:04:08,138] Finished trial#34 resulted in value: 0.01880000000000004. Current best value is 0.013700000000000045 with parameters: {'activation': 'ReLU', 'dropout_prob': 0.5584895335100127, 'optimizer': 'Adam', 'weight_decay': 3.156360680409689e-05, 'adam_lr': 0.0026845002297224206}.\n",
      "[I 2019-08-07 17:07:17,176] Finished trial#35 resulted in value: 0.03990000000000005. Current best value is 0.013700000000000045 with parameters: {'activation': 'ReLU', 'dropout_prob': 0.5584895335100127, 'optimizer': 'Adam', 'weight_decay': 3.156360680409689e-05, 'adam_lr': 0.0026845002297224206}.\n",
      "[I 2019-08-07 17:10:07,959] Finished trial#36 resulted in value: 0.023299999999999987. Current best value is 0.013700000000000045 with parameters: {'activation': 'ReLU', 'dropout_prob': 0.5584895335100127, 'optimizer': 'Adam', 'weight_decay': 3.156360680409689e-05, 'adam_lr': 0.0026845002297224206}.\n",
      "[I 2019-08-07 17:12:16,354] Finished trial#37 resulted in value: 0.896. Current best value is 0.013700000000000045 with parameters: {'activation': 'ReLU', 'dropout_prob': 0.5584895335100127, 'optimizer': 'Adam', 'weight_decay': 3.156360680409689e-05, 'adam_lr': 0.0026845002297224206}.\n",
      "[I 2019-08-07 17:15:51,373] Finished trial#38 resulted in value: 0.027699999999999947. Current best value is 0.013700000000000045 with parameters: {'activation': 'ReLU', 'dropout_prob': 0.5584895335100127, 'optimizer': 'Adam', 'weight_decay': 3.156360680409689e-05, 'adam_lr': 0.0026845002297224206}.\n",
      "[I 2019-08-07 17:18:28,305] Finished trial#39 resulted in value: 0.03180000000000005. Current best value is 0.013700000000000045 with parameters: {'activation': 'ReLU', 'dropout_prob': 0.5584895335100127, 'optimizer': 'Adam', 'weight_decay': 3.156360680409689e-05, 'adam_lr': 0.0026845002297224206}.\n",
      "[I 2019-08-07 17:20:24,590] Finished trial#40 resulted in value: 0.014399999999999968. Current best value is 0.013700000000000045 with parameters: {'activation': 'ReLU', 'dropout_prob': 0.5584895335100127, 'optimizer': 'Adam', 'weight_decay': 3.156360680409689e-05, 'adam_lr': 0.0026845002297224206}.\n",
      "[I 2019-08-07 17:22:35,968] Finished trial#41 resulted in value: 0.017100000000000004. Current best value is 0.013700000000000045 with parameters: {'activation': 'ReLU', 'dropout_prob': 0.5584895335100127, 'optimizer': 'Adam', 'weight_decay': 3.156360680409689e-05, 'adam_lr': 0.0026845002297224206}.\n",
      "[I 2019-08-07 17:24:29,564] Finished trial#42 resulted in value: 0.013399999999999967. Current best value is 0.013399999999999967 with parameters: {'activation': 'ReLU', 'dropout_prob': 0.47847311701491446, 'optimizer': 'Adam', 'weight_decay': 6.078259066703996e-08, 'adam_lr': 0.0026697163352142213}.\n",
      "[I 2019-08-07 17:26:21,772] Finished trial#43 resulted in value: 0.014000000000000012. Current best value is 0.013399999999999967 with parameters: {'activation': 'ReLU', 'dropout_prob': 0.47847311701491446, 'optimizer': 'Adam', 'weight_decay': 6.078259066703996e-08, 'adam_lr': 0.0026697163352142213}.\n",
      "[I 2019-08-07 17:28:13,229] Finished trial#44 resulted in value: 0.04610000000000003. Current best value is 0.013399999999999967 with parameters: {'activation': 'ReLU', 'dropout_prob': 0.47847311701491446, 'optimizer': 'Adam', 'weight_decay': 6.078259066703996e-08, 'adam_lr': 0.0026697163352142213}.\n",
      "[I 2019-08-07 17:30:02,493] Finished trial#45 resulted in value: 0.01859999999999995. Current best value is 0.013399999999999967 with parameters: {'activation': 'ReLU', 'dropout_prob': 0.47847311701491446, 'optimizer': 'Adam', 'weight_decay': 6.078259066703996e-08, 'adam_lr': 0.0026697163352142213}.\n",
      "[I 2019-08-07 17:32:20,722] Finished trial#46 resulted in value: 0.019100000000000006. Current best value is 0.013399999999999967 with parameters: {'activation': 'ReLU', 'dropout_prob': 0.47847311701491446, 'optimizer': 'Adam', 'weight_decay': 6.078259066703996e-08, 'adam_lr': 0.0026697163352142213}.\n",
      "[I 2019-08-07 17:34:13,096] Finished trial#47 resulted in value: 0.01529999999999998. Current best value is 0.013399999999999967 with parameters: {'activation': 'ReLU', 'dropout_prob': 0.47847311701491446, 'optimizer': 'Adam', 'weight_decay': 6.078259066703996e-08, 'adam_lr': 0.0026697163352142213}.\n",
      "[I 2019-08-07 17:36:51,799] Finished trial#48 resulted in value: 0.03069999999999995. Current best value is 0.013399999999999967 with parameters: {'activation': 'ReLU', 'dropout_prob': 0.47847311701491446, 'optimizer': 'Adam', 'weight_decay': 6.078259066703996e-08, 'adam_lr': 0.0026697163352142213}.\n",
      "[I 2019-08-07 17:39:08,278] Finished trial#49 resulted in value: 0.02100000000000002. Current best value is 0.013399999999999967 with parameters: {'activation': 'ReLU', 'dropout_prob': 0.47847311701491446, 'optimizer': 'Adam', 'weight_decay': 6.078259066703996e-08, 'adam_lr': 0.0026697163352142213}.\n",
      "[I 2019-08-07 17:41:09,520] Finished trial#50 resulted in value: 0.9011. Current best value is 0.013399999999999967 with parameters: {'activation': 'ReLU', 'dropout_prob': 0.47847311701491446, 'optimizer': 'Adam', 'weight_decay': 6.078259066703996e-08, 'adam_lr': 0.0026697163352142213}.\n",
      "[I 2019-08-07 17:45:36,942] Finished trial#51 resulted in value: 0.8936. Current best value is 0.013399999999999967 with parameters: {'activation': 'ReLU', 'dropout_prob': 0.47847311701491446, 'optimizer': 'Adam', 'weight_decay': 6.078259066703996e-08, 'adam_lr': 0.0026697163352142213}.\n",
      "[I 2019-08-07 17:48:14,803] Finished trial#52 resulted in value: 0.014800000000000035. Current best value is 0.013399999999999967 with parameters: {'activation': 'ReLU', 'dropout_prob': 0.47847311701491446, 'optimizer': 'Adam', 'weight_decay': 6.078259066703996e-08, 'adam_lr': 0.0026697163352142213}.\n"
     ]
    },
    {
     "name": "stderr",
     "output_type": "stream",
     "text": [
      "[I 2019-08-07 17:50:17,788] Finished trial#53 resulted in value: 0.013900000000000023. Current best value is 0.013399999999999967 with parameters: {'activation': 'ReLU', 'dropout_prob': 0.47847311701491446, 'optimizer': 'Adam', 'weight_decay': 6.078259066703996e-08, 'adam_lr': 0.0026697163352142213}.\n",
      "[I 2019-08-07 17:52:24,292] Finished trial#54 resulted in value: 0.017299999999999982. Current best value is 0.013399999999999967 with parameters: {'activation': 'ReLU', 'dropout_prob': 0.47847311701491446, 'optimizer': 'Adam', 'weight_decay': 6.078259066703996e-08, 'adam_lr': 0.0026697163352142213}.\n",
      "[I 2019-08-07 17:54:29,050] Finished trial#55 resulted in value: 0.019299999999999984. Current best value is 0.013399999999999967 with parameters: {'activation': 'ReLU', 'dropout_prob': 0.47847311701491446, 'optimizer': 'Adam', 'weight_decay': 6.078259066703996e-08, 'adam_lr': 0.0026697163352142213}.\n",
      "[I 2019-08-07 17:56:30,347] Finished trial#56 resulted in value: 0.01739999999999997. Current best value is 0.013399999999999967 with parameters: {'activation': 'ReLU', 'dropout_prob': 0.47847311701491446, 'optimizer': 'Adam', 'weight_decay': 6.078259066703996e-08, 'adam_lr': 0.0026697163352142213}.\n",
      "[I 2019-08-07 17:58:43,511] Finished trial#57 resulted in value: 0.016199999999999992. Current best value is 0.013399999999999967 with parameters: {'activation': 'ReLU', 'dropout_prob': 0.47847311701491446, 'optimizer': 'Adam', 'weight_decay': 6.078259066703996e-08, 'adam_lr': 0.0026697163352142213}.\n",
      "[I 2019-08-07 18:00:50,804] Finished trial#58 resulted in value: 0.015499999999999958. Current best value is 0.013399999999999967 with parameters: {'activation': 'ReLU', 'dropout_prob': 0.47847311701491446, 'optimizer': 'Adam', 'weight_decay': 6.078259066703996e-08, 'adam_lr': 0.0026697163352142213}.\n",
      "[I 2019-08-07 18:03:27,959] Finished trial#59 resulted in value: 0.03200000000000003. Current best value is 0.013399999999999967 with parameters: {'activation': 'ReLU', 'dropout_prob': 0.47847311701491446, 'optimizer': 'Adam', 'weight_decay': 6.078259066703996e-08, 'adam_lr': 0.0026697163352142213}.\n",
      "[I 2019-08-07 18:05:36,975] Finished trial#60 resulted in value: 0.016599999999999948. Current best value is 0.013399999999999967 with parameters: {'activation': 'ReLU', 'dropout_prob': 0.47847311701491446, 'optimizer': 'Adam', 'weight_decay': 6.078259066703996e-08, 'adam_lr': 0.0026697163352142213}.\n",
      "[I 2019-08-07 18:07:41,321] Finished trial#61 resulted in value: 0.025800000000000045. Current best value is 0.013399999999999967 with parameters: {'activation': 'ReLU', 'dropout_prob': 0.47847311701491446, 'optimizer': 'Adam', 'weight_decay': 6.078259066703996e-08, 'adam_lr': 0.0026697163352142213}.\n",
      "[I 2019-08-07 18:09:50,286] Finished trial#62 resulted in value: 0.021100000000000008. Current best value is 0.013399999999999967 with parameters: {'activation': 'ReLU', 'dropout_prob': 0.47847311701491446, 'optimizer': 'Adam', 'weight_decay': 6.078259066703996e-08, 'adam_lr': 0.0026697163352142213}.\n",
      "[I 2019-08-07 18:11:51,219] Finished trial#63 resulted in value: 0.014700000000000046. Current best value is 0.013399999999999967 with parameters: {'activation': 'ReLU', 'dropout_prob': 0.47847311701491446, 'optimizer': 'Adam', 'weight_decay': 6.078259066703996e-08, 'adam_lr': 0.0026697163352142213}.\n",
      "[I 2019-08-07 18:13:56,558] Finished trial#64 resulted in value: 0.016199999999999992. Current best value is 0.013399999999999967 with parameters: {'activation': 'ReLU', 'dropout_prob': 0.47847311701491446, 'optimizer': 'Adam', 'weight_decay': 6.078259066703996e-08, 'adam_lr': 0.0026697163352142213}.\n",
      "[I 2019-08-07 18:16:09,969] Finished trial#65 resulted in value: 0.02180000000000004. Current best value is 0.013399999999999967 with parameters: {'activation': 'ReLU', 'dropout_prob': 0.47847311701491446, 'optimizer': 'Adam', 'weight_decay': 6.078259066703996e-08, 'adam_lr': 0.0026697163352142213}.\n",
      "[I 2019-08-07 18:18:15,681] Finished trial#66 resulted in value: 0.014599999999999946. Current best value is 0.013399999999999967 with parameters: {'activation': 'ReLU', 'dropout_prob': 0.47847311701491446, 'optimizer': 'Adam', 'weight_decay': 6.078259066703996e-08, 'adam_lr': 0.0026697163352142213}.\n",
      "[I 2019-08-07 18:20:41,767] Finished trial#67 resulted in value: 0.013299999999999979. Current best value is 0.013299999999999979 with parameters: {'activation': 'ReLU', 'dropout_prob': 0.44540079690028667, 'optimizer': 'Adam', 'weight_decay': 3.8840965528641736e-10, 'adam_lr': 0.0019432431600424078}.\n",
      "[I 2019-08-07 18:22:57,270] Finished trial#68 resulted in value: 0.015100000000000002. Current best value is 0.013299999999999979 with parameters: {'activation': 'ReLU', 'dropout_prob': 0.44540079690028667, 'optimizer': 'Adam', 'weight_decay': 3.8840965528641736e-10, 'adam_lr': 0.0019432431600424078}.\n",
      "[I 2019-08-07 18:24:57,397] Finished trial#69 resulted in value: 0.01970000000000005. Current best value is 0.013299999999999979 with parameters: {'activation': 'ReLU', 'dropout_prob': 0.44540079690028667, 'optimizer': 'Adam', 'weight_decay': 3.8840965528641736e-10, 'adam_lr': 0.0019432431600424078}.\n",
      "[I 2019-08-07 18:26:58,298] Finished trial#70 resulted in value: 0.014599999999999946. Current best value is 0.013299999999999979 with parameters: {'activation': 'ReLU', 'dropout_prob': 0.44540079690028667, 'optimizer': 'Adam', 'weight_decay': 3.8840965528641736e-10, 'adam_lr': 0.0019432431600424078}.\n",
      "[I 2019-08-07 18:29:03,187] Finished trial#71 resulted in value: 0.05630000000000002. Current best value is 0.013299999999999979 with parameters: {'activation': 'ReLU', 'dropout_prob': 0.44540079690028667, 'optimizer': 'Adam', 'weight_decay': 3.8840965528641736e-10, 'adam_lr': 0.0019432431600424078}.\n",
      "[I 2019-08-07 18:31:12,714] Finished trial#72 resulted in value: 0.017299999999999982. Current best value is 0.013299999999999979 with parameters: {'activation': 'ReLU', 'dropout_prob': 0.44540079690028667, 'optimizer': 'Adam', 'weight_decay': 3.8840965528641736e-10, 'adam_lr': 0.0019432431600424078}.\n",
      "[I 2019-08-07 18:33:19,996] Finished trial#73 resulted in value: 0.014800000000000035. Current best value is 0.013299999999999979 with parameters: {'activation': 'ReLU', 'dropout_prob': 0.44540079690028667, 'optimizer': 'Adam', 'weight_decay': 3.8840965528641736e-10, 'adam_lr': 0.0019432431600424078}.\n",
      "[I 2019-08-07 18:35:28,741] Finished trial#74 resulted in value: 0.012900000000000023. Current best value is 0.012900000000000023 with parameters: {'activation': 'ReLU', 'dropout_prob': 0.5453655204393352, 'optimizer': 'Adam', 'weight_decay': 1.1930892632063503e-07, 'adam_lr': 0.0025745108772260075}.\n",
      "[I 2019-08-07 18:37:30,336] Finished trial#75 resulted in value: 0.01759999999999995. Current best value is 0.012900000000000023 with parameters: {'activation': 'ReLU', 'dropout_prob': 0.5453655204393352, 'optimizer': 'Adam', 'weight_decay': 1.1930892632063503e-07, 'adam_lr': 0.0025745108772260075}.\n",
      "[I 2019-08-07 18:39:57,499] Finished trial#76 resulted in value: 0.014800000000000035. Current best value is 0.012900000000000023 with parameters: {'activation': 'ReLU', 'dropout_prob': 0.5453655204393352, 'optimizer': 'Adam', 'weight_decay': 1.1930892632063503e-07, 'adam_lr': 0.0025745108772260075}.\n",
      "[I 2019-08-07 18:42:21,268] Finished trial#77 resulted in value: 0.013700000000000045. Current best value is 0.012900000000000023 with parameters: {'activation': 'ReLU', 'dropout_prob': 0.5453655204393352, 'optimizer': 'Adam', 'weight_decay': 1.1930892632063503e-07, 'adam_lr': 0.0025745108772260075}.\n",
      "[I 2019-08-07 18:45:17,149] Finished trial#78 resulted in value: 0.013900000000000023. Current best value is 0.012900000000000023 with parameters: {'activation': 'ReLU', 'dropout_prob': 0.5453655204393352, 'optimizer': 'Adam', 'weight_decay': 1.1930892632063503e-07, 'adam_lr': 0.0025745108772260075}.\n",
      "[I 2019-08-07 18:47:35,863] Finished trial#79 resulted in value: 0.10960000000000003. Current best value is 0.012900000000000023 with parameters: {'activation': 'ReLU', 'dropout_prob': 0.5453655204393352, 'optimizer': 'Adam', 'weight_decay': 1.1930892632063503e-07, 'adam_lr': 0.0025745108772260075}.\n",
      "[I 2019-08-07 18:49:44,499] Finished trial#80 resulted in value: 0.01639999999999997. Current best value is 0.012900000000000023 with parameters: {'activation': 'ReLU', 'dropout_prob': 0.5453655204393352, 'optimizer': 'Adam', 'weight_decay': 1.1930892632063503e-07, 'adam_lr': 0.0025745108772260075}.\n",
      "[I 2019-08-07 18:51:49,287] Finished trial#81 resulted in value: 0.013499999999999956. Current best value is 0.012900000000000023 with parameters: {'activation': 'ReLU', 'dropout_prob': 0.5453655204393352, 'optimizer': 'Adam', 'weight_decay': 1.1930892632063503e-07, 'adam_lr': 0.0025745108772260075}.\n",
      "[I 2019-08-07 18:54:26,408] Finished trial#82 resulted in value: 0.021199999999999997. Current best value is 0.012900000000000023 with parameters: {'activation': 'ReLU', 'dropout_prob': 0.5453655204393352, 'optimizer': 'Adam', 'weight_decay': 1.1930892632063503e-07, 'adam_lr': 0.0025745108772260075}.\n",
      "[I 2019-08-07 18:56:33,250] Finished trial#83 resulted in value: 0.015000000000000013. Current best value is 0.012900000000000023 with parameters: {'activation': 'ReLU', 'dropout_prob': 0.5453655204393352, 'optimizer': 'Adam', 'weight_decay': 1.1930892632063503e-07, 'adam_lr': 0.0025745108772260075}.\n",
      "[I 2019-08-07 18:58:37,605] Finished trial#84 resulted in value: 0.014399999999999968. Current best value is 0.012900000000000023 with parameters: {'activation': 'ReLU', 'dropout_prob': 0.5453655204393352, 'optimizer': 'Adam', 'weight_decay': 1.1930892632063503e-07, 'adam_lr': 0.0025745108772260075}.\n",
      "[I 2019-08-07 19:00:45,981] Finished trial#85 resulted in value: 0.011900000000000022. Current best value is 0.011900000000000022 with parameters: {'activation': 'ReLU', 'dropout_prob': 0.021829776206425844, 'optimizer': 'Adam', 'weight_decay': 2.369490691276072e-07, 'adam_lr': 0.0018922939418576164}.\n",
      "[I 2019-08-07 19:02:49,554] Finished trial#86 resulted in value: 0.016000000000000014. Current best value is 0.011900000000000022 with parameters: {'activation': 'ReLU', 'dropout_prob': 0.021829776206425844, 'optimizer': 'Adam', 'weight_decay': 2.369490691276072e-07, 'adam_lr': 0.0018922939418576164}.\n",
      "[I 2019-08-07 19:05:23,719] Finished trial#87 resulted in value: 0.01429999999999998. Current best value is 0.011900000000000022 with parameters: {'activation': 'ReLU', 'dropout_prob': 0.021829776206425844, 'optimizer': 'Adam', 'weight_decay': 2.369490691276072e-07, 'adam_lr': 0.0018922939418576164}.\n",
      "[I 2019-08-07 19:07:30,790] Finished trial#88 resulted in value: 0.027699999999999947. Current best value is 0.011900000000000022 with parameters: {'activation': 'ReLU', 'dropout_prob': 0.021829776206425844, 'optimizer': 'Adam', 'weight_decay': 2.369490691276072e-07, 'adam_lr': 0.0018922939418576164}.\n",
      "[I 2019-08-07 19:09:34,141] Finished trial#89 resulted in value: 0.019100000000000006. Current best value is 0.011900000000000022 with parameters: {'activation': 'ReLU', 'dropout_prob': 0.021829776206425844, 'optimizer': 'Adam', 'weight_decay': 2.369490691276072e-07, 'adam_lr': 0.0018922939418576164}.\n",
      "[I 2019-08-07 19:11:34,859] Finished trial#90 resulted in value: 0.013599999999999945. Current best value is 0.011900000000000022 with parameters: {'activation': 'ReLU', 'dropout_prob': 0.021829776206425844, 'optimizer': 'Adam', 'weight_decay': 2.369490691276072e-07, 'adam_lr': 0.0018922939418576164}.\n",
      "[I 2019-08-07 19:13:39,742] Finished trial#91 resulted in value: 0.015499999999999958. Current best value is 0.011900000000000022 with parameters: {'activation': 'ReLU', 'dropout_prob': 0.021829776206425844, 'optimizer': 'Adam', 'weight_decay': 2.369490691276072e-07, 'adam_lr': 0.0018922939418576164}.\n",
      "[I 2019-08-07 19:15:47,040] Finished trial#92 resulted in value: 0.014900000000000024. Current best value is 0.011900000000000022 with parameters: {'activation': 'ReLU', 'dropout_prob': 0.021829776206425844, 'optimizer': 'Adam', 'weight_decay': 2.369490691276072e-07, 'adam_lr': 0.0018922939418576164}.\n",
      "[I 2019-08-07 19:17:54,914] Finished trial#93 resulted in value: 0.0242. Current best value is 0.011900000000000022 with parameters: {'activation': 'ReLU', 'dropout_prob': 0.021829776206425844, 'optimizer': 'Adam', 'weight_decay': 2.369490691276072e-07, 'adam_lr': 0.0018922939418576164}.\n",
      "[I 2019-08-07 19:20:10,570] Finished trial#94 resulted in value: 0.01539999999999997. Current best value is 0.011900000000000022 with parameters: {'activation': 'ReLU', 'dropout_prob': 0.021829776206425844, 'optimizer': 'Adam', 'weight_decay': 2.369490691276072e-07, 'adam_lr': 0.0018922939418576164}.\n",
      "[I 2019-08-07 19:22:12,972] Finished trial#95 resulted in value: 0.015800000000000036. Current best value is 0.011900000000000022 with parameters: {'activation': 'ReLU', 'dropout_prob': 0.021829776206425844, 'optimizer': 'Adam', 'weight_decay': 2.369490691276072e-07, 'adam_lr': 0.0018922939418576164}.\n",
      "[I 2019-08-07 19:24:25,919] Finished trial#96 resulted in value: 0.01319999999999999. Current best value is 0.011900000000000022 with parameters: {'activation': 'ReLU', 'dropout_prob': 0.021829776206425844, 'optimizer': 'Adam', 'weight_decay': 2.369490691276072e-07, 'adam_lr': 0.0018922939418576164}.\n",
      "[I 2019-08-07 19:26:53,732] Finished trial#97 resulted in value: 0.015100000000000002. Current best value is 0.011900000000000022 with parameters: {'activation': 'ReLU', 'dropout_prob': 0.021829776206425844, 'optimizer': 'Adam', 'weight_decay': 2.369490691276072e-07, 'adam_lr': 0.0018922939418576164}.\n",
      "[I 2019-08-07 19:29:11,810] Finished trial#98 resulted in value: 0.017299999999999982. Current best value is 0.011900000000000022 with parameters: {'activation': 'ReLU', 'dropout_prob': 0.021829776206425844, 'optimizer': 'Adam', 'weight_decay': 2.369490691276072e-07, 'adam_lr': 0.0018922939418576164}.\n",
      "[I 2019-08-07 19:31:30,092] Finished trial#99 resulted in value: 0.015499999999999958. Current best value is 0.011900000000000022 with parameters: {'activation': 'ReLU', 'dropout_prob': 0.021829776206425844, 'optimizer': 'Adam', 'weight_decay': 2.369490691276072e-07, 'adam_lr': 0.0018922939418576164}.\n"
     ]
    }
   ],
   "source": [
    "# Dropoutあり\n",
    "\n",
    "import optuna\n",
    "\n",
    "EPOCH = 3\n",
    "\n",
    "def objective(trial):\n",
    "    device = \"cuda\" if torch.cuda.is_available() else \"cpu\"\n",
    "\n",
    "    activation = get_activation(trial)\n",
    "    dropout_prob = trial.suggest_uniform(\"dropout_prob\", 0, 0.8)\n",
    "\n",
    "    model = Net(activation, dropout_prob).to(device)\n",
    "    optimizer = get_optimizer(trial, model)\n",
    "\n",
    "    for step in range(EPOCH):\n",
    "        train(model, device, loader_train, optimizer)\n",
    "        error_rate = test(model, device, loader_test)\n",
    "\n",
    "    return error_rate\n",
    "\n",
    "study = optuna.create_study()\n",
    "study.optimize(objective, n_trials=100)"
   ]
  },
  {
   "cell_type": "code",
   "execution_count": 23,
   "metadata": {},
   "outputs": [
    {
     "ename": "NameError",
     "evalue": "name 'study' is not defined",
     "output_type": "error",
     "traceback": [
      "\u001b[1;31m---------------------------------------------------------------------------\u001b[0m",
      "\u001b[1;31mNameError\u001b[0m                                 Traceback (most recent call last)",
      "\u001b[1;32m<ipython-input-23-5a6cb567333e>\u001b[0m in \u001b[0;36m<module>\u001b[1;34m\u001b[0m\n\u001b[1;32m----> 1\u001b[1;33m \u001b[0mstudy\u001b[0m\u001b[1;33m.\u001b[0m\u001b[0mbest_params\u001b[0m\u001b[1;33m\u001b[0m\u001b[1;33m\u001b[0m\u001b[0m\n\u001b[0m",
      "\u001b[1;31mNameError\u001b[0m: name 'study' is not defined"
     ]
    }
   ],
   "source": [
    "study.best_params"
   ]
  },
  {
   "cell_type": "code",
   "execution_count": 218,
   "metadata": {},
   "outputs": [
    {
     "data": {
      "text/plain": [
       "0.011900000000000022"
      ]
     },
     "execution_count": 218,
     "metadata": {},
     "output_type": "execute_result"
    }
   ],
   "source": [
    "study.bestvalue"
   ]
  },
  {
   "cell_type": "code",
   "execution_count": 24,
   "metadata": {},
   "outputs": [
    {
     "ename": "ModuleNotFoundError",
     "evalue": "No module named 'optuna'",
     "output_type": "error",
     "traceback": [
      "\u001b[1;31m---------------------------------------------------------------------------\u001b[0m",
      "\u001b[1;31mModuleNotFoundError\u001b[0m                       Traceback (most recent call last)",
      "\u001b[1;32m<ipython-input-24-0d4c6b39588e>\u001b[0m in \u001b[0;36m<module>\u001b[1;34m\u001b[0m\n\u001b[0;32m      1\u001b[0m \u001b[1;31m# Dropoutなし\u001b[0m\u001b[1;33m\u001b[0m\u001b[1;33m\u001b[0m\u001b[1;33m\u001b[0m\u001b[0m\n\u001b[0;32m      2\u001b[0m \u001b[1;33m\u001b[0m\u001b[0m\n\u001b[1;32m----> 3\u001b[1;33m \u001b[1;32mimport\u001b[0m \u001b[0moptuna\u001b[0m\u001b[1;33m\u001b[0m\u001b[1;33m\u001b[0m\u001b[0m\n\u001b[0m\u001b[0;32m      4\u001b[0m \u001b[1;33m\u001b[0m\u001b[0m\n\u001b[0;32m      5\u001b[0m \u001b[0mEPOCH\u001b[0m \u001b[1;33m=\u001b[0m \u001b[1;36m3\u001b[0m\u001b[1;33m\u001b[0m\u001b[1;33m\u001b[0m\u001b[0m\n",
      "\u001b[1;31mModuleNotFoundError\u001b[0m: No module named 'optuna'"
     ]
    }
   ],
   "source": [
    "# Dropoutなし\n",
    "\n",
    "import optuna\n",
    "\n",
    "EPOCH = 3\n",
    "\n",
    "def objective(trial):\n",
    "    device = \"cuda\" if torch.cuda.is_available() else \"cpu\"\n",
    "\n",
    "    activation = get_activation(trial)\n",
    "    dropout_prob = trial.suggest_uniform(\"dropout_prob\", 0, 0.8)\n",
    "\n",
    "    model = Net(activation, dropout_prob).to(device)\n",
    "    optimizer = get_optimizer(trial, model)\n",
    "\n",
    "    for step in range(EPOCH):\n",
    "        train(model, device, loader_train, optimizer)\n",
    "        error_rate = test(model, device, loader_test)\n",
    "\n",
    "    return error_rate\n",
    "\n",
    "study = optuna.create_study()\n",
    "study.optimize(objective, n_trials=100)"
   ]
  },
  {
   "cell_type": "code",
   "execution_count": 232,
   "metadata": {},
   "outputs": [
    {
     "data": {
      "text/plain": [
       "{'activation': 'ReLU',\n",
       " 'dropout_prob': 0.5993657899247533,\n",
       " 'optimizer': 'MomentumSGD',\n",
       " 'weight_decay': 2.940744863502711e-07,\n",
       " 'momentum_sgd_lr': 0.048160721856100486}"
      ]
     },
     "execution_count": 232,
     "metadata": {},
     "output_type": "execute_result"
    }
   ],
   "source": [
    "study.best_params"
   ]
  },
  {
   "cell_type": "code",
   "execution_count": 237,
   "metadata": {},
   "outputs": [
    {
     "data": {
      "text/plain": [
       "0.9894"
      ]
     },
     "execution_count": 237,
     "metadata": {},
     "output_type": "execute_result"
    }
   ],
   "source": [
    "study.best_value\n",
    "1-0.0106"
   ]
  }
 ],
 "metadata": {
  "kernelspec": {
   "display_name": "Python 3",
   "language": "python",
   "name": "python3"
  },
  "language_info": {
   "codemirror_mode": {
    "name": "ipython",
    "version": 3
   },
   "file_extension": ".py",
   "mimetype": "text/x-python",
   "name": "python",
   "nbconvert_exporter": "python",
   "pygments_lexer": "ipython3",
   "version": "3.7.4"
  },
  "varInspector": {
   "cols": {
    "lenName": 16,
    "lenType": 16,
    "lenVar": 40
   },
   "kernels_config": {
    "python": {
     "delete_cmd_postfix": "",
     "delete_cmd_prefix": "del ",
     "library": "var_list.py",
     "varRefreshCmd": "print(var_dic_list())"
    },
    "r": {
     "delete_cmd_postfix": ") ",
     "delete_cmd_prefix": "rm(",
     "library": "var_list.r",
     "varRefreshCmd": "cat(var_dic_list()) "
    }
   },
   "position": {
    "height": "321.583px",
    "left": "467.785px",
    "right": "20px",
    "top": "301px",
    "width": "800px"
   },
   "types_to_exclude": [
    "module",
    "function",
    "builtin_function_or_method",
    "instance",
    "_Feature"
   ],
   "window_display": false
  }
 },
 "nbformat": 4,
 "nbformat_minor": 2
}
